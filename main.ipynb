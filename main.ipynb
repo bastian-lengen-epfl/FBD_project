{
 "cells": [
  {
   "cell_type": "code",
   "execution_count": 1,
   "metadata": {},
   "outputs": [],
   "source": [
    "import pandas as pd\n",
    "import numpy as np\n",
    "\n",
    "import glob, os"
   ]
  },
  {
   "cell_type": "code",
   "execution_count": 2,
   "metadata": {},
   "outputs": [],
   "source": [
    "### Set paths and file names\n",
    "path_raw = \"data/raw/TRTH/equities/US/\"\n",
    "path_clean = \"data/clean/TRTH/equities/US/\"\n",
    "\n",
    "# List of the files\n",
    "allfiles_trade=glob.glob(os.path.join(path_raw,\"trade/AAPL.OQ/*\"))\n",
    "allfiles_bbo=glob.glob(os.path.join(path_raw,\"bbo/AAPL.OQ/*\"))\n",
    "\n",
    "# Only keeps the 5 first to begin with\n",
    "allfiles_trade=np.sort(allfiles_trade)[:3]\n",
    "allfiles_bbo=np.sort(allfiles_bbo)[:3]"
   ]
  },
  {
   "cell_type": "code",
   "execution_count": 3,
   "metadata": {},
   "outputs": [],
   "source": [
    "### Functions \n",
    "def type_is_not_None(obj):\n",
    "    if type(obj) is type(None) : return False\n",
    "    return True\n",
    "\n",
    "\n",
    "### Functions that can be used with parallel computing\n",
    "import dask\n",
    "dask.config.set(scheduler=\"processes\")\n",
    "\n",
    "@dask.delayed\n",
    "def load_TRTH_trade(filename,\n",
    "             tz_exchange=\"America/New_York\",\n",
    "             only_non_special_trades=True,\n",
    "             only_regular_trading_hours=True,\n",
    "             open_time=\"09:30:00\",\n",
    "             close_time=\"16:00:00\",\n",
    "             merge_sub_trades=True):\n",
    "    \n",
    "    DF = pd.read_csv(filename)\n",
    "    if (DF.empty == True) : return None\n",
    "\n",
    "    if only_non_special_trades:\n",
    "        DF = DF[DF[\"trade-stringflag\"]==\"uncategorized\"]\n",
    "\n",
    "    DF.drop(columns=[\"trade-rawflag\",\"trade-stringflag\"],axis=1,inplace=True)\n",
    "    \n",
    "    DF.index = pd.to_datetime(DF[\"xltime\"],unit=\"D\",origin=\"1899-12-30\",utc=True)\n",
    "    DF.index = DF.index.tz_convert(tz_exchange)  # .P stands for Arca, which is based at New York\n",
    "    DF.drop(columns=\"xltime\",inplace=True)\n",
    "    \n",
    "    if only_regular_trading_hours:\n",
    "        DF=DF.between_time(open_time,close_time)    # warning: ever heard e.g. about Thanksgivings?\n",
    "    \n",
    "    if merge_sub_trades:\n",
    "           DF=DF.groupby(DF.index).agg(trade_price=pd.NamedAgg(column='trade-price', aggfunc='mean'),\n",
    "                                       trade_volume=pd.NamedAgg(column='trade-volume', aggfunc='sum'))\n",
    "    \n",
    "    return DF\n",
    "\n",
    "@dask.delayed\n",
    "def load_TRTH_bbo(filename,\n",
    "             tz_exchange=\"America/New_York\",\n",
    "             open_time=\"09:30:00\",\n",
    "             close_time=\"16:00:00\",\n",
    "             only_regular_trading_hours=True):\n",
    "    \n",
    "    DF = pd.read_csv(filename)\n",
    "    if (DF.empty == True) : return None\n",
    "\n",
    "    DF.index = pd.to_datetime(DF[\"xltime\"],unit=\"D\",origin=\"1899-12-30\",utc=True)\n",
    "    DF.index = DF.index.tz_convert(tz_exchange)  # .P stands for Arca, which is based at New York\n",
    "    DF.drop(columns=\"xltime\",inplace=True)\n",
    "    \n",
    "    if only_regular_trading_hours:\n",
    "        DF=DF.between_time(open_time,close_time)    # warning: ever heard e.g. about Thanksgivings?\n",
    "        \n",
    "    return DF"
   ]
  },
  {
   "cell_type": "code",
   "execution_count": 4,
   "metadata": {
    "scrolled": true
   },
   "outputs": [],
   "source": [
    "### Load/treat/regroup/save the DF\n",
    "# Load the TRTH data\n",
    "allpromises_trade=[load_TRTH_trade(fn) for fn in allfiles_trade]\n",
    "allpromises_bbo=[load_TRTH_bbo(fn) for fn in allfiles_bbo]\n",
    "\n",
    "# Compute with dask\n",
    "alltrades=dask.compute(allpromises_trade)[0]            \n",
    "allbbos=dask.compute(allpromises_bbo)[0]    \n",
    "\n",
    "# Remove the None from the empty DF\n",
    "alltrades = list(filter(type_is_not_None,alltrades))\n",
    "allbbos = list(filter(type_is_not_None,allbbos))\n",
    "\n",
    "# Regroup the DF\n",
    "alltrades=pd.concat(alltrades)\n",
    "allbbos=pd.concat(allbbos)\n",
    "\n",
    "# Join them together\n",
    "allevents=alltrades.join(allbbos,how='inner')\n",
    "\n",
    "# Fill the DF\n",
    "allevents.ffill(inplace=True)\n",
    "\n",
    "# Save the cleaned DF\n",
    "if (not os.path.exists(path_clean)):\n",
    "    os.makedirs(path_clean)\n",
    "allevents.to_csv(os.path.join(path_clean,\"AAPL.OQ.csv.gz\"))"
   ]
  },
  {
   "cell_type": "code",
   "execution_count": 16,
   "metadata": {},
   "outputs": [],
   "source": [
    "## Sets up a dataframe for the ML algorithm\n",
    "from datetime import timedelta\n",
    "\n",
    "N=len(allevents)\n",
    "\n",
    "# Parameters for the ML\n",
    "SimData = pd.DataFrame(index=allevents.index)\n",
    "SimData['total-traded'] = allevents['trade_price']*allevents['trade_volume']\n",
    "SimData['bid-ask-spread'] = allevents['bid-price']-allevents['ask-price']\n",
    "\n",
    "# Evolution for the trade-price after 1s\n",
    "# returns 1 if the trade-price increased, 0 otherwise\n",
    "tmp = np.zeros(N)\n",
    "for i in range(N):\n",
    "    dt = allevents.index[i]\n",
    "    for j in range(i,N):\n",
    "        if (allevents.index[j]>=dt+timedelta(seconds=1)):\n",
    "            tmp[i] = (allevents.iloc[j]['trade_price']<allevents.iloc[i]['trade_price'])\n",
    "            break\n",
    "SimData['1s-change'] = tmp"
   ]
  },
  {
   "cell_type": "code",
   "execution_count": 17,
   "metadata": {},
   "outputs": [],
   "source": [
    "### Split data for training and validation\n",
    "from sklearn.model_selection import train_test_split\n",
    "\n",
    "array = SimData.values\n",
    "X = array[:,0:1] # for the 2 parameters\n",
    "y = array[:,2] # for trade_price increase prediction\n",
    "\n",
    "X_train, X_validation, Y_train, Y_validation = train_test_split(X, y, test_size=0.20, random_state=None)"
   ]
  },
  {
   "cell_type": "code",
   "execution_count": 18,
   "metadata": {},
   "outputs": [],
   "source": [
    "### Use a Decision Tree Classifier for prediction \n",
    "from sklearn.metrics import classification_report\n",
    "from sklearn.metrics import confusion_matrix\n",
    "from sklearn.metrics import accuracy_score\n",
    "from sklearn.tree import DecisionTreeClassifier\n",
    "\n",
    "model = DecisionTreeClassifier()\n",
    "model.fit(X_train, Y_train)\n",
    "predictions = model.predict(X_validation)"
   ]
  },
  {
   "cell_type": "code",
   "execution_count": 43,
   "metadata": {},
   "outputs": [
    {
     "name": "stdout",
     "output_type": "stream",
     "text": [
      "Accuracy of the prediction : \n",
      "0.7472635120746198\n",
      "Confusion matrix, without normalization\n",
      "[[11079  2016]\n",
      " [ 3918  6466]]\n",
      "Normalized confusion matrix\n",
      "[[0.84604811 0.15395189]\n",
      " [0.37731125 0.62268875]]\n"
     ]
    },
    {
     "data": {
      "image/png": "[encoded data removed]",
      "text/plain": [
       "<Figure size 432x288 with 2 Axes>"
      ]
     },
     "metadata": {
      "needs_background": "light"
     },
     "output_type": "display_data"
    },
    {
     "data": {
      "image/png": "[encoded data removed]",
      "text/plain": [
       "<Figure size 432x288 with 2 Axes>"
      ]
     },
     "metadata": {
      "needs_background": "light"
     },
     "output_type": "display_data"
    },
    {
     "name": "stdout",
     "output_type": "stream",
     "text": [
      "Classification report : \n",
      "              precision    recall  f1-score   support\n",
      "\n",
      "         0.0       0.74      0.85      0.79     13095\n",
      "         1.0       0.76      0.62      0.69     10384\n",
      "\n",
      "    accuracy                           0.75     23479\n",
      "   macro avg       0.75      0.73      0.74     23479\n",
      "weighted avg       0.75      0.75      0.74     23479\n",
      "\n"
     ]
    }
   ],
   "source": [
    "### Evaluates the predictions\n",
    "# Accuracy\n",
    "print(\"Accuracy of the prediction : \\n\" + str(accuracy_score(Y_validation, predictions)))\n",
    "\n",
    "\n",
    "# Confusion matrices\n",
    "from sklearn.metrics import plot_confusion_matrix\n",
    "# Plot non-normalized confusion matrix\n",
    "titles_options = [(\"Confusion matrix, without normalization\", None),\n",
    "                  (\"Normalized confusion matrix\", 'true')]\n",
    "for title, normalize in titles_options:\n",
    "    disp = plot_confusion_matrix(model, X_validation, Y_validation,\n",
    "                                 display_labels=['0','1'],\n",
    "                                 cmap=plt.cm.Blues,\n",
    "                                 normalize=normalize)\n",
    "    disp.ax_.set_title(title)\n",
    "\n",
    "    print(title)\n",
    "    print(disp.confusion_matrix)\n",
    "\n",
    "plt.show()\n",
    "\n",
    "\n",
    "# Classification report\n",
    "print(\"Classification report : \")\n",
    "print(classification_report(Y_validation, predictions))"
   ]
  }
 ],
 "metadata": {
  "kernelspec": {
   "display_name": "Python 3",
   "language": "python",
   "name": "python3"
  },
  "language_info": {
   "codemirror_mode": {
    "name": "ipython",
    "version": 3
   },
   "file_extension": ".py",
   "mimetype": "text/x-python",
   "name": "python",
   "nbconvert_exporter": "python",
   "pygments_lexer": "ipython3",
   "version": "3.8.3"
  }
 },
 "nbformat": 4,
 "nbformat_minor": 4
}
