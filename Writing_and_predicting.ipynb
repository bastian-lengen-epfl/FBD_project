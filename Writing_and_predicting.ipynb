{
 "cells": [
  {
   "cell_type": "code",
   "execution_count": 1,
   "metadata": {},
   "outputs": [],
   "source": [
    "import time\n",
    "import pandas as pd\n",
    "import os\n",
    "from pyarrow import csv, parquet\n",
    "from sklearn.metrics import plot_confusion_matrix\n",
    "from sklearn.model_selection import train_test_split\n",
    "from sklearn.metrics import classification_report\n",
    "from sklearn.metrics import accuracy_score\n",
    "from sklearn.tree import DecisionTreeClassifier\n",
    "import matplotlib.pyplot as plt"
   ]
  },
  {
   "cell_type": "code",
   "execution_count": 2,
   "metadata": {},
   "outputs": [],
   "source": [
    "path_clean = \"data/clean/TRTH/equities/US\"\n",
    "file_csv_gz = os.path.join(path_clean, 'AAPL.OQ.csv.gz')\n",
    "file_parquet = os.path.join(path_clean, 'AAPL.OQ.parquet')\n",
    "file_hdf = os.path.join(path_clean, 'AAPL.OQ.h5')\n",
    "\n",
    "# CSVGZ TO PANDAS\n",
    "t0 = time.time()\n",
    "allevents = pd.read_csv(file_csv_gz)\n",
    "t1 = time.time()\n",
    "read_csvgz_time = t1 - t0\n",
    "\n",
    "# CSVGZ TO PYARROW TO PANDAS\n",
    "t0 = time.time()\n",
    "table_1 = csv.read_csv(file_csv_gz)\n",
    "df = table_1.to_pandas()\n",
    "t1 = time.time()\n",
    "read_csvgz_to_pyarrow_time = t1 - t0\n",
    "\n",
    "# PARQUET TO PANDAS\n",
    "t0 = time.time()\n",
    "df = pd.read_parquet(file_parquet)\n",
    "t1 = time.time()\n",
    "read_parquet_time = t1 - t0\n",
    "\n",
    "# PARQUET TO PYARROW TO PANDAS\n",
    "t0 = time.time()\n",
    "table_2 = parquet.read_table(file_parquet)\n",
    "df = table_2.to_pandas()\n",
    "t1 = time.time()\n",
    "read_parquet_to_pyarrow_time = t1 - t0\n",
    "\n",
    "# HDF5 TO PANDAS\n",
    "t0 = time.time()\n",
    "df = pd.read_hdf(file_hdf)\n",
    "t1 = time.time()\n",
    "read_hdf5_time = t1 - t0"
   ]
  },
  {
   "cell_type": "code",
   "execution_count": 3,
   "metadata": {},
   "outputs": [],
   "source": [
    "# Feature engineering\n",
    "t0 = time.time()\n",
    "SimData = pd.DataFrame(index=allevents.index)\n",
    "SimData['total-traded'] = allevents['trade_price'] * allevents['trade_volume']\n",
    "SimData['bid-ask-spread'] = allevents['bid-price'] - allevents['ask-price']\n",
    "SimData['imbalance'] = allevents['bid-volume'].rolling(5).sum() - allevents['ask-volume'].rolling(5).sum()\n",
    "SimData['change'] = (allevents.trade_price - allevents.trade_price.shift(-30) > 0).astype('int')\n",
    "SimData.dropna(how='any', inplace=True)\n",
    "\n",
    "array = SimData.values\n",
    "X = array[:, 0:3]\n",
    "y = array[:, 3]\n",
    "X_train, X_validation, Y_train, Y_validation = train_test_split(X, y, test_size=0.20, random_state=None)\n",
    "\n",
    "# Use a Decision Tree Classifier for prediction\n",
    "model = DecisionTreeClassifier()\n",
    "model.fit(X_train, Y_train)\n",
    "predictions = model.predict(X_validation)\n",
    "t1 = time.time()\n",
    "prediction_time = t1 - t0"
   ]
  },
  {
   "cell_type": "code",
   "execution_count": null,
   "metadata": {},
   "outputs": [
    {
     "name": "stdout",
     "output_type": "stream",
     "text": [
      "Accuracy of the prediction : \n",
      "0.7205548395016265\n",
      "Confusion matrix, without normalization\n",
      "[[19575  6423]\n",
      " [ 7236 15645]]\n",
      "Normalized confusion matrix\n",
      "[[0.75294253 0.24705747]\n",
      " [0.31624492 0.68375508]]\n",
      "Classification report : \n",
      "              precision    recall  f1-score   support\n",
      "\n",
      "         0.0       0.73      0.75      0.74     25998\n",
      "         1.0       0.71      0.68      0.70     22881\n",
      "\n",
      "    accuracy                           0.72     48879\n",
      "   macro avg       0.72      0.72      0.72     48879\n",
      "weighted avg       0.72      0.72      0.72     48879\n",
      "\n"
     ]
    },
    {
     "data": {
      "image/png": "[encoded data removed]",
      "text/plain": [
       "<Figure size 432x288 with 2 Axes>"
      ]
     },
     "metadata": {
      "needs_background": "light"
     },
     "output_type": "display_data"
    }
   ],
   "source": [
    "# Evaluates the predictions\n",
    "# Accuracy\n",
    "print(\"Accuracy of the prediction : \\n\" + str(accuracy_score(Y_validation, predictions)))\n",
    "\n",
    "# Plot non-normalized confusion matrix\n",
    "titles_options = [(\"Confusion matrix, without normalization\", None),\n",
    "                  (\"Normalized confusion matrix\", 'true')]\n",
    "for title, normalize in titles_options:\n",
    "    disp = plot_confusion_matrix(model, X_validation, Y_validation,\n",
    "                                 display_labels=['0', '1'],\n",
    "                                 cmap=plt.cm.Blues,\n",
    "                                 normalize=normalize)\n",
    "    disp.ax_.set_title(title)\n",
    "    print(title)\n",
    "    print(disp.confusion_matrix)\n",
    "\n",
    "# Classification report\n",
    "print(\"Classification report : \")\n",
    "print(classification_report(Y_validation, predictions))\n",
    "plt.show()\n",
    "\n",
    "print('Reading time, csv.gz...', read_csvgz_time, 's')\n",
    "print('Reading time, csv.gz via pyarrow...', read_csvgz_to_pyarrow_time, 's')\n",
    "print('Reading time, parquet...', read_parquet_time, 's')\n",
    "print('Reading time, parquet via pyarrow...', read_parquet_to_pyarrow_time, 's')\n",
    "print('Reading time, hdf5...', read_hdf5_time, 's')\n",
    "print('Prediction time...', prediction_time, 's')"
   ]
  },
  {
   "cell_type": "code",
   "execution_count": null,
   "metadata": {},
   "outputs": [],
   "source": []
  }
 ],
 "metadata": {
  "kernelspec": {
   "display_name": "Python 3",
   "language": "python",
   "name": "python3"
  },
  "language_info": {
   "codemirror_mode": {
    "name": "ipython",
    "version": 3
   },
   "file_extension": ".py",
   "mimetype": "text/x-python",
   "name": "python",
   "nbconvert_exporter": "python",
   "pygments_lexer": "ipython3",
   "version": "3.8.3"
  }
 },
 "nbformat": 4,
 "nbformat_minor": 4
}
