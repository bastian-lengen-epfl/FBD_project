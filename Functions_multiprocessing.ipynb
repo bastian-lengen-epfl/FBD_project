{
 "cells": [
  {
   "cell_type": "code",
   "execution_count": null,
   "metadata": {},
   "outputs": [],
   "source": [
    "def load_trade_multiprocessing(filename,\n",
    "               tz_exchange=\"America/New_York\",\n",
    "               only_non_special_trades=True,\n",
    "               only_regular_trading_hours=True,\n",
    "               open_time=\"09:30:00\",\n",
    "               close_time=\"16:00:00\",\n",
    "               merge_sub_trades=True):\n",
    "    import pandas as pd\n",
    "    DF = pd.read_csv(filename)\n",
    "    if DF.empty:\n",
    "        return None\n",
    "    if only_non_special_trades:\n",
    "        DF = DF[DF[\"trade-stringflag\"] == \"uncategorized\"]\n",
    "    DF.drop(columns=[\"trade-rawflag\", \"trade-stringflag\"], axis=1, inplace=True)\n",
    "    DF.index = pd.to_datetime(DF[\"xltime\"], unit=\"D\", origin=\"1899-12-30\", utc=True)\n",
    "    DF.index = DF.index.tz_convert(tz_exchange)\n",
    "    DF.drop(columns=\"xltime\", inplace=True)\n",
    "    if only_regular_trading_hours:\n",
    "        DF = DF.between_time(open_time, close_time)\n",
    "    if merge_sub_trades:\n",
    "        DF = DF.groupby(DF.index).agg(trade_price=pd.NamedAgg(column='trade-price', aggfunc='mean'),\n",
    "                                      trade_volume=pd.NamedAgg(column='trade-volume', aggfunc='sum'))\n",
    "    return DF\n",
    "\n",
    "\n",
    "def load_bbo_multiprocessing(filename,\n",
    "             tz_exchange=\"America/New_York\",\n",
    "             open_time=\"09:30:00\",\n",
    "             close_time=\"16:00:00\",\n",
    "             only_regular_trading_hours=True):\n",
    "    import pandas as pd\n",
    "    DF = pd.read_csv(filename)\n",
    "    if DF.empty:\n",
    "        return None\n",
    "    DF.index = pd.to_datetime(DF[\"xltime\"], unit=\"D\", origin=\"1899-12-30\", utc=True)\n",
    "    DF.index = DF.index.tz_convert(tz_exchange)\n",
    "    DF.drop(columns=\"xltime\", inplace=True)\n",
    "    if only_regular_trading_hours:\n",
    "        DF = DF.between_time(open_time, close_time)\n",
    "    return DF"
   ]
  }
 ],
 "metadata": {
  "kernelspec": {
   "display_name": "Python 3",
   "language": "python",
   "name": "python3"
  },
  "language_info": {
   "codemirror_mode": {
    "name": "ipython",
    "version": 3
   },
   "file_extension": ".py",
   "mimetype": "text/x-python",
   "name": "python",
   "nbconvert_exporter": "python",
   "pygments_lexer": "ipython3",
   "version": "3.8.3"
  }
 },
 "nbformat": 4,
 "nbformat_minor": 4
}
